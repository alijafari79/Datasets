import pandas as pd

data = pd.read_json('./news.json')
print(data)
